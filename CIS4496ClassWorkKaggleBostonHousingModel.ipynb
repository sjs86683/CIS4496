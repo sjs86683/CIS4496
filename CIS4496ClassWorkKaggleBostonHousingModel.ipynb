{
 "cells": [
  {
   "cell_type": "code",
   "execution_count": 14,
   "metadata": {},
   "outputs": [
    {
     "name": "stdout",
     "output_type": "stream",
     "text": [
      "0.6935079567907749\n"
     ]
    }
   ],
   "source": [
    "import numpy as np\n",
    "import pandas as pd\n",
    "from sklearn.linear_model import LinearRegression\n",
    "from sklearn.model_selection import train_test_split\n",
    "\n",
    "input_file = \"train.csv\"\n",
    "input_test_file = 'test.csv'\n",
    "\n",
    "# comma delimited is the default\n",
    "df = pd.read_csv(input_file, header = 0)\n",
    "df_testing = pd.read_csv(input_file, header = 0)\n",
    "\n",
    "feature_cols = ['MSSubClass','OverallQual','MiscVal', 'OverallCond','YearBuilt','YearRemodAdd','BsmtFinSF1','BsmtUnfSF','YrSold','MoSold']\n",
    "X = df.loc[:, feature_cols]\n",
    "Y = df.SalePrice\n",
    "\n",
    "x_test = df_testing.loc[:, feature_cols]\n",
    "y_test = df_testing.SalePrice\n",
    "\n",
    "\n",
    "reg = LinearRegression().fit(X, Y)\n",
    "accuracy = reg.score(x_test,y_test)\n",
    "print(accuracy)"
   ]
  },
  {
   "cell_type": "code",
   "execution_count": null,
   "metadata": {},
   "outputs": [],
   "source": []
  },
  {
   "cell_type": "code",
   "execution_count": null,
   "metadata": {},
   "outputs": [],
   "source": []
  }
 ],
 "metadata": {
  "kernelspec": {
   "display_name": "Python 3",
   "language": "python",
   "name": "python3"
  },
  "language_info": {
   "codemirror_mode": {
    "name": "ipython",
    "version": 3
   },
   "file_extension": ".py",
   "mimetype": "text/x-python",
   "name": "python",
   "nbconvert_exporter": "python",
   "pygments_lexer": "ipython3",
   "version": "3.7.4"
  }
 },
 "nbformat": 4,
 "nbformat_minor": 4
}
